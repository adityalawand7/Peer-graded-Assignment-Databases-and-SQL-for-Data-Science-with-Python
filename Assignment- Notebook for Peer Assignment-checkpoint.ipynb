{
 "cells": [
  {
   "cell_type": "markdown",
   "id": "85d097c5",
   "metadata": {},
   "source": [
    "# Assignment: Notebook for Peer Assignment"
   ]
  },
  {
   "cell_type": "code",
   "execution_count": 1,
   "id": "6ffcf341",
   "metadata": {},
   "outputs": [],
   "source": [
    "import csv, sqlite3\n",
    "conn = sqlite3.connect(\"FinalDB.db\")\n",
    "cursor = conn.cursor()"
   ]
  },
  {
   "cell_type": "code",
   "execution_count": 2,
   "id": "fd2998cf",
   "metadata": {},
   "outputs": [],
   "source": [
    "%load_ext sql"
   ]
  },
  {
   "cell_type": "code",
   "execution_count": 3,
   "id": "4d826064",
   "metadata": {},
   "outputs": [
    {
     "data": {
      "text/plain": [
       "'Connected: @FinalDB.db'"
      ]
     },
     "execution_count": 3,
     "metadata": {},
     "output_type": "execute_result"
    }
   ],
   "source": [
    "%sql sqlite:///FinalDB.db"
   ]
  },
  {
   "cell_type": "code",
   "execution_count": 4,
   "id": "23fc303a",
   "metadata": {},
   "outputs": [],
   "source": [
    "import pandas as pd"
   ]
  },
  {
   "cell_type": "code",
   "execution_count": 5,
   "id": "8720508f",
   "metadata": {},
   "outputs": [],
   "source": [
    "df1 = pd.read_csv(\"C:/Users/lawan/Downloads/ChicagoCensusData.csv\")\n",
    "df2 = pd.read_csv(\"C:/Users/lawan/Downloads/ChicagoCrimeData.csv\")\n",
    "df3 = pd.read_csv(\"C:/Users/lawan/Downloads/ChicagoPublicSchools.csv\")"
   ]
  },
  {
   "cell_type": "code",
   "execution_count": 6,
   "id": "a73963b8",
   "metadata": {},
   "outputs": [
    {
     "data": {
      "text/plain": [
       "566"
      ]
     },
     "execution_count": 6,
     "metadata": {},
     "output_type": "execute_result"
    }
   ],
   "source": [
    "df1.to_sql(\"CENSUS_DATA\", conn, if_exists=\"replace\", index=False, method=\"multi\")\n",
    "df2.to_sql(\"CHICAGO_CRIME_DATA\",conn, if_exists=\"replace\", index=False, method=\"multi\")\n",
    "df3.to_sql(\"CHICAGO_PUBLIC_SCHOOLS\", conn, if_exists=\"replace\", index=False, method=\"multi\")"
   ]
  },
  {
   "cell_type": "code",
   "execution_count": 7,
   "id": "0c178954",
   "metadata": {
    "collapsed": true
   },
   "outputs": [
    {
     "name": "stdout",
     "output_type": "stream",
     "text": [
      " * sqlite:///FinalDB.db\n",
      "Done.\n"
     ]
    },
    {
     "data": {
      "text/html": [
       "<table>\n",
       "    <thead>\n",
       "        <tr>\n",
       "            <th>name</th>\n",
       "        </tr>\n",
       "    </thead>\n",
       "    <tbody>\n",
       "        <tr>\n",
       "            <td>ID</td>\n",
       "        </tr>\n",
       "        <tr>\n",
       "            <td>CASE_NUMBER</td>\n",
       "        </tr>\n",
       "        <tr>\n",
       "            <td>DATE</td>\n",
       "        </tr>\n",
       "        <tr>\n",
       "            <td>BLOCK</td>\n",
       "        </tr>\n",
       "        <tr>\n",
       "            <td>IUCR</td>\n",
       "        </tr>\n",
       "        <tr>\n",
       "            <td>PRIMARY_TYPE</td>\n",
       "        </tr>\n",
       "        <tr>\n",
       "            <td>DESCRIPTION</td>\n",
       "        </tr>\n",
       "        <tr>\n",
       "            <td>LOCATION_DESCRIPTION</td>\n",
       "        </tr>\n",
       "        <tr>\n",
       "            <td>ARREST</td>\n",
       "        </tr>\n",
       "        <tr>\n",
       "            <td>DOMESTIC</td>\n",
       "        </tr>\n",
       "        <tr>\n",
       "            <td>BEAT</td>\n",
       "        </tr>\n",
       "        <tr>\n",
       "            <td>DISTRICT</td>\n",
       "        </tr>\n",
       "        <tr>\n",
       "            <td>WARD</td>\n",
       "        </tr>\n",
       "        <tr>\n",
       "            <td>COMMUNITY_AREA_NUMBER</td>\n",
       "        </tr>\n",
       "        <tr>\n",
       "            <td>FBICODE</td>\n",
       "        </tr>\n",
       "        <tr>\n",
       "            <td>X_COORDINATE</td>\n",
       "        </tr>\n",
       "        <tr>\n",
       "            <td>Y_COORDINATE</td>\n",
       "        </tr>\n",
       "        <tr>\n",
       "            <td>YEAR</td>\n",
       "        </tr>\n",
       "        <tr>\n",
       "            <td>LATITUDE</td>\n",
       "        </tr>\n",
       "        <tr>\n",
       "            <td>LONGITUDE</td>\n",
       "        </tr>\n",
       "        <tr>\n",
       "            <td>LOCATION</td>\n",
       "        </tr>\n",
       "    </tbody>\n",
       "</table>"
      ],
      "text/plain": [
       "[('ID',),\n",
       " ('CASE_NUMBER',),\n",
       " ('DATE',),\n",
       " ('BLOCK',),\n",
       " ('IUCR',),\n",
       " ('PRIMARY_TYPE',),\n",
       " ('DESCRIPTION',),\n",
       " ('LOCATION_DESCRIPTION',),\n",
       " ('ARREST',),\n",
       " ('DOMESTIC',),\n",
       " ('BEAT',),\n",
       " ('DISTRICT',),\n",
       " ('WARD',),\n",
       " ('COMMUNITY_AREA_NUMBER',),\n",
       " ('FBICODE',),\n",
       " ('X_COORDINATE',),\n",
       " ('Y_COORDINATE',),\n",
       " ('YEAR',),\n",
       " ('LATITUDE',),\n",
       " ('LONGITUDE',),\n",
       " ('LOCATION',)]"
      ]
     },
     "execution_count": 7,
     "metadata": {},
     "output_type": "execute_result"
    }
   ],
   "source": [
    "%sql SELECT name FROM PRAGMA_TABLE_INFO(\"CHICAGO_CRIME_DATA\");"
   ]
  },
  {
   "cell_type": "code",
   "execution_count": 8,
   "id": "4b1b818b",
   "metadata": {
    "collapsed": true
   },
   "outputs": [
    {
     "name": "stdout",
     "output_type": "stream",
     "text": [
      " * sqlite:///FinalDB.db\n",
      "Done.\n"
     ]
    },
    {
     "data": {
      "text/html": [
       "<table>\n",
       "    <thead>\n",
       "        <tr>\n",
       "            <th>name</th>\n",
       "        </tr>\n",
       "    </thead>\n",
       "    <tbody>\n",
       "        <tr>\n",
       "            <td>School_ID</td>\n",
       "        </tr>\n",
       "        <tr>\n",
       "            <td>NAME_OF_SCHOOL</td>\n",
       "        </tr>\n",
       "        <tr>\n",
       "            <td>Elementary, Middle, or High School</td>\n",
       "        </tr>\n",
       "        <tr>\n",
       "            <td>Street_Address</td>\n",
       "        </tr>\n",
       "        <tr>\n",
       "            <td>City</td>\n",
       "        </tr>\n",
       "        <tr>\n",
       "            <td>State</td>\n",
       "        </tr>\n",
       "        <tr>\n",
       "            <td>ZIP_Code</td>\n",
       "        </tr>\n",
       "        <tr>\n",
       "            <td>Phone_Number</td>\n",
       "        </tr>\n",
       "        <tr>\n",
       "            <td>Link</td>\n",
       "        </tr>\n",
       "        <tr>\n",
       "            <td>Network_Manager</td>\n",
       "        </tr>\n",
       "        <tr>\n",
       "            <td>Collaborative_Name</td>\n",
       "        </tr>\n",
       "        <tr>\n",
       "            <td>Adequate_Yearly_Progress_Made_</td>\n",
       "        </tr>\n",
       "        <tr>\n",
       "            <td>Track_Schedule</td>\n",
       "        </tr>\n",
       "        <tr>\n",
       "            <td>CPS_Performance_Policy_Status</td>\n",
       "        </tr>\n",
       "        <tr>\n",
       "            <td>CPS_Performance_Policy_Level</td>\n",
       "        </tr>\n",
       "        <tr>\n",
       "            <td>HEALTHY_SCHOOL_CERTIFIED</td>\n",
       "        </tr>\n",
       "        <tr>\n",
       "            <td>Safety_Icon</td>\n",
       "        </tr>\n",
       "        <tr>\n",
       "            <td>SAFETY_SCORE</td>\n",
       "        </tr>\n",
       "        <tr>\n",
       "            <td>Family_Involvement_Icon</td>\n",
       "        </tr>\n",
       "        <tr>\n",
       "            <td>Family_Involvement_Score</td>\n",
       "        </tr>\n",
       "        <tr>\n",
       "            <td>Environment_Icon</td>\n",
       "        </tr>\n",
       "        <tr>\n",
       "            <td>Environment_Score</td>\n",
       "        </tr>\n",
       "        <tr>\n",
       "            <td>Instruction_Icon</td>\n",
       "        </tr>\n",
       "        <tr>\n",
       "            <td>Instruction_Score</td>\n",
       "        </tr>\n",
       "        <tr>\n",
       "            <td>Leaders_Icon</td>\n",
       "        </tr>\n",
       "        <tr>\n",
       "            <td>Leaders_Score</td>\n",
       "        </tr>\n",
       "        <tr>\n",
       "            <td>Teachers_Icon</td>\n",
       "        </tr>\n",
       "        <tr>\n",
       "            <td>Teachers_Score</td>\n",
       "        </tr>\n",
       "        <tr>\n",
       "            <td>Parent_Engagement_Icon</td>\n",
       "        </tr>\n",
       "        <tr>\n",
       "            <td>Parent_Engagement_Score</td>\n",
       "        </tr>\n",
       "        <tr>\n",
       "            <td>Parent_Environment_Icon</td>\n",
       "        </tr>\n",
       "        <tr>\n",
       "            <td>Parent_Environment_Score</td>\n",
       "        </tr>\n",
       "        <tr>\n",
       "            <td>AVERAGE_STUDENT_ATTENDANCE</td>\n",
       "        </tr>\n",
       "        <tr>\n",
       "            <td>Rate_of_Misconducts__per_100_students_</td>\n",
       "        </tr>\n",
       "        <tr>\n",
       "            <td>Average_Teacher_Attendance</td>\n",
       "        </tr>\n",
       "        <tr>\n",
       "            <td>Individualized_Education_Program_Compliance_Rate</td>\n",
       "        </tr>\n",
       "        <tr>\n",
       "            <td>Pk_2_Literacy__</td>\n",
       "        </tr>\n",
       "        <tr>\n",
       "            <td>Pk_2_Math__</td>\n",
       "        </tr>\n",
       "        <tr>\n",
       "            <td>Gr3_5_Grade_Level_Math__</td>\n",
       "        </tr>\n",
       "        <tr>\n",
       "            <td>Gr3_5_Grade_Level_Read__</td>\n",
       "        </tr>\n",
       "        <tr>\n",
       "            <td>Gr3_5_Keep_Pace_Read__</td>\n",
       "        </tr>\n",
       "        <tr>\n",
       "            <td>Gr3_5_Keep_Pace_Math__</td>\n",
       "        </tr>\n",
       "        <tr>\n",
       "            <td>Gr6_8_Grade_Level_Math__</td>\n",
       "        </tr>\n",
       "        <tr>\n",
       "            <td>Gr6_8_Grade_Level_Read__</td>\n",
       "        </tr>\n",
       "        <tr>\n",
       "            <td>Gr6_8_Keep_Pace_Math_</td>\n",
       "        </tr>\n",
       "        <tr>\n",
       "            <td>Gr6_8_Keep_Pace_Read__</td>\n",
       "        </tr>\n",
       "        <tr>\n",
       "            <td>Gr_8_Explore_Math__</td>\n",
       "        </tr>\n",
       "        <tr>\n",
       "            <td>Gr_8_Explore_Read__</td>\n",
       "        </tr>\n",
       "        <tr>\n",
       "            <td>ISAT_Exceeding_Math__</td>\n",
       "        </tr>\n",
       "        <tr>\n",
       "            <td>ISAT_Exceeding_Reading__</td>\n",
       "        </tr>\n",
       "        <tr>\n",
       "            <td>ISAT_Value_Add_Math</td>\n",
       "        </tr>\n",
       "        <tr>\n",
       "            <td>ISAT_Value_Add_Read</td>\n",
       "        </tr>\n",
       "        <tr>\n",
       "            <td>ISAT_Value_Add_Color_Math</td>\n",
       "        </tr>\n",
       "        <tr>\n",
       "            <td>ISAT_Value_Add_Color_Read</td>\n",
       "        </tr>\n",
       "        <tr>\n",
       "            <td>Students_Taking__Algebra__</td>\n",
       "        </tr>\n",
       "        <tr>\n",
       "            <td>Students_Passing__Algebra__</td>\n",
       "        </tr>\n",
       "        <tr>\n",
       "            <td>9th Grade EXPLORE (2009)</td>\n",
       "        </tr>\n",
       "        <tr>\n",
       "            <td>9th Grade EXPLORE (2010)</td>\n",
       "        </tr>\n",
       "        <tr>\n",
       "            <td>10th Grade PLAN (2009)</td>\n",
       "        </tr>\n",
       "        <tr>\n",
       "            <td>10th Grade PLAN (2010)</td>\n",
       "        </tr>\n",
       "        <tr>\n",
       "            <td>Net_Change_EXPLORE_and_PLAN</td>\n",
       "        </tr>\n",
       "        <tr>\n",
       "            <td>11th Grade Average ACT (2011)</td>\n",
       "        </tr>\n",
       "        <tr>\n",
       "            <td>Net_Change_PLAN_and_ACT</td>\n",
       "        </tr>\n",
       "        <tr>\n",
       "            <td>College_Eligibility__</td>\n",
       "        </tr>\n",
       "        <tr>\n",
       "            <td>Graduation_Rate__</td>\n",
       "        </tr>\n",
       "        <tr>\n",
       "            <td>College_Enrollment_Rate__</td>\n",
       "        </tr>\n",
       "        <tr>\n",
       "            <td>COLLEGE_ENROLLMENT</td>\n",
       "        </tr>\n",
       "        <tr>\n",
       "            <td>General_Services_Route</td>\n",
       "        </tr>\n",
       "        <tr>\n",
       "            <td>Freshman_on_Track_Rate__</td>\n",
       "        </tr>\n",
       "        <tr>\n",
       "            <td>X_COORDINATE</td>\n",
       "        </tr>\n",
       "        <tr>\n",
       "            <td>Y_COORDINATE</td>\n",
       "        </tr>\n",
       "        <tr>\n",
       "            <td>Latitude</td>\n",
       "        </tr>\n",
       "        <tr>\n",
       "            <td>Longitude</td>\n",
       "        </tr>\n",
       "        <tr>\n",
       "            <td>COMMUNITY_AREA_NUMBER</td>\n",
       "        </tr>\n",
       "        <tr>\n",
       "            <td>COMMUNITY_AREA_NAME</td>\n",
       "        </tr>\n",
       "        <tr>\n",
       "            <td>Ward</td>\n",
       "        </tr>\n",
       "        <tr>\n",
       "            <td>Police_District</td>\n",
       "        </tr>\n",
       "        <tr>\n",
       "            <td>Location</td>\n",
       "        </tr>\n",
       "    </tbody>\n",
       "</table>"
      ],
      "text/plain": [
       "[('School_ID',),\n",
       " ('NAME_OF_SCHOOL',),\n",
       " ('Elementary, Middle, or High School',),\n",
       " ('Street_Address',),\n",
       " ('City',),\n",
       " ('State',),\n",
       " ('ZIP_Code',),\n",
       " ('Phone_Number',),\n",
       " ('Link',),\n",
       " ('Network_Manager',),\n",
       " ('Collaborative_Name',),\n",
       " ('Adequate_Yearly_Progress_Made_',),\n",
       " ('Track_Schedule',),\n",
       " ('CPS_Performance_Policy_Status',),\n",
       " ('CPS_Performance_Policy_Level',),\n",
       " ('HEALTHY_SCHOOL_CERTIFIED',),\n",
       " ('Safety_Icon',),\n",
       " ('SAFETY_SCORE',),\n",
       " ('Family_Involvement_Icon',),\n",
       " ('Family_Involvement_Score',),\n",
       " ('Environment_Icon',),\n",
       " ('Environment_Score',),\n",
       " ('Instruction_Icon',),\n",
       " ('Instruction_Score',),\n",
       " ('Leaders_Icon',),\n",
       " ('Leaders_Score',),\n",
       " ('Teachers_Icon',),\n",
       " ('Teachers_Score',),\n",
       " ('Parent_Engagement_Icon',),\n",
       " ('Parent_Engagement_Score',),\n",
       " ('Parent_Environment_Icon',),\n",
       " ('Parent_Environment_Score',),\n",
       " ('AVERAGE_STUDENT_ATTENDANCE',),\n",
       " ('Rate_of_Misconducts__per_100_students_',),\n",
       " ('Average_Teacher_Attendance',),\n",
       " ('Individualized_Education_Program_Compliance_Rate',),\n",
       " ('Pk_2_Literacy__',),\n",
       " ('Pk_2_Math__',),\n",
       " ('Gr3_5_Grade_Level_Math__',),\n",
       " ('Gr3_5_Grade_Level_Read__',),\n",
       " ('Gr3_5_Keep_Pace_Read__',),\n",
       " ('Gr3_5_Keep_Pace_Math__',),\n",
       " ('Gr6_8_Grade_Level_Math__',),\n",
       " ('Gr6_8_Grade_Level_Read__',),\n",
       " ('Gr6_8_Keep_Pace_Math_',),\n",
       " ('Gr6_8_Keep_Pace_Read__',),\n",
       " ('Gr_8_Explore_Math__',),\n",
       " ('Gr_8_Explore_Read__',),\n",
       " ('ISAT_Exceeding_Math__',),\n",
       " ('ISAT_Exceeding_Reading__',),\n",
       " ('ISAT_Value_Add_Math',),\n",
       " ('ISAT_Value_Add_Read',),\n",
       " ('ISAT_Value_Add_Color_Math',),\n",
       " ('ISAT_Value_Add_Color_Read',),\n",
       " ('Students_Taking__Algebra__',),\n",
       " ('Students_Passing__Algebra__',),\n",
       " ('9th Grade EXPLORE (2009)',),\n",
       " ('9th Grade EXPLORE (2010)',),\n",
       " ('10th Grade PLAN (2009)',),\n",
       " ('10th Grade PLAN (2010)',),\n",
       " ('Net_Change_EXPLORE_and_PLAN',),\n",
       " ('11th Grade Average ACT (2011)',),\n",
       " ('Net_Change_PLAN_and_ACT',),\n",
       " ('College_Eligibility__',),\n",
       " ('Graduation_Rate__',),\n",
       " ('College_Enrollment_Rate__',),\n",
       " ('COLLEGE_ENROLLMENT',),\n",
       " ('General_Services_Route',),\n",
       " ('Freshman_on_Track_Rate__',),\n",
       " ('X_COORDINATE',),\n",
       " ('Y_COORDINATE',),\n",
       " ('Latitude',),\n",
       " ('Longitude',),\n",
       " ('COMMUNITY_AREA_NUMBER',),\n",
       " ('COMMUNITY_AREA_NAME',),\n",
       " ('Ward',),\n",
       " ('Police_District',),\n",
       " ('Location',)]"
      ]
     },
     "execution_count": 8,
     "metadata": {},
     "output_type": "execute_result"
    }
   ],
   "source": [
    "%sql SELECT name FROM PRAGMA_TABLE_INFO(\"CHICAGO_PUBLIC_SCHOOLS\");"
   ]
  },
  {
   "cell_type": "code",
   "execution_count": 9,
   "id": "38f26881",
   "metadata": {
    "collapsed": true
   },
   "outputs": [
    {
     "name": "stdout",
     "output_type": "stream",
     "text": [
      " * sqlite:///FinalDB.db\n",
      "Done.\n"
     ]
    },
    {
     "data": {
      "text/html": [
       "<table>\n",
       "    <thead>\n",
       "        <tr>\n",
       "            <th>name</th>\n",
       "        </tr>\n",
       "    </thead>\n",
       "    <tbody>\n",
       "        <tr>\n",
       "            <td>COMMUNITY_AREA_NUMBER</td>\n",
       "        </tr>\n",
       "        <tr>\n",
       "            <td>COMMUNITY_AREA_NAME</td>\n",
       "        </tr>\n",
       "        <tr>\n",
       "            <td>PERCENT_OF_HOUSING_CROWDED</td>\n",
       "        </tr>\n",
       "        <tr>\n",
       "            <td>PERCENT_HOUSEHOLDS_BELOW_POVERTY</td>\n",
       "        </tr>\n",
       "        <tr>\n",
       "            <td>PERCENT_AGED_16__UNEMPLOYED</td>\n",
       "        </tr>\n",
       "        <tr>\n",
       "            <td>PERCENT_AGED_25__WITHOUT_HIGH_SCHOOL_DIPLOMA</td>\n",
       "        </tr>\n",
       "        <tr>\n",
       "            <td>PERCENT_AGED_UNDER_18_OR_OVER_64</td>\n",
       "        </tr>\n",
       "        <tr>\n",
       "            <td>PER_CAPITA_INCOME</td>\n",
       "        </tr>\n",
       "        <tr>\n",
       "            <td>HARDSHIP_INDEX</td>\n",
       "        </tr>\n",
       "    </tbody>\n",
       "</table>"
      ],
      "text/plain": [
       "[('COMMUNITY_AREA_NUMBER',),\n",
       " ('COMMUNITY_AREA_NAME',),\n",
       " ('PERCENT_OF_HOUSING_CROWDED',),\n",
       " ('PERCENT_HOUSEHOLDS_BELOW_POVERTY',),\n",
       " ('PERCENT_AGED_16__UNEMPLOYED',),\n",
       " ('PERCENT_AGED_25__WITHOUT_HIGH_SCHOOL_DIPLOMA',),\n",
       " ('PERCENT_AGED_UNDER_18_OR_OVER_64',),\n",
       " ('PER_CAPITA_INCOME',),\n",
       " ('HARDSHIP_INDEX',)]"
      ]
     },
     "execution_count": 9,
     "metadata": {},
     "output_type": "execute_result"
    }
   ],
   "source": [
    "%sql SELECT name FROM PRAGMA_TABLE_INFO(\"CENSUS_DATA\");"
   ]
  },
  {
   "cell_type": "code",
   "execution_count": 10,
   "id": "a067ba92",
   "metadata": {},
   "outputs": [
    {
     "name": "stdout",
     "output_type": "stream",
     "text": [
      " * sqlite:///FinalDB.db\n",
      "Done.\n"
     ]
    },
    {
     "data": {
      "text/html": [
       "<table>\n",
       "    <thead>\n",
       "        <tr>\n",
       "            <th>COUNT(*)</th>\n",
       "        </tr>\n",
       "    </thead>\n",
       "    <tbody>\n",
       "        <tr>\n",
       "            <td>533</td>\n",
       "        </tr>\n",
       "    </tbody>\n",
       "</table>"
      ],
      "text/plain": [
       "[(533,)]"
      ]
     },
     "execution_count": 10,
     "metadata": {},
     "output_type": "execute_result"
    }
   ],
   "source": [
    "#Find the total number of crimes recorded in the CRIME table.\n",
    "%sql SELECT COUNT(*) FROM CHICAGO_CRIME_DATA;"
   ]
  },
  {
   "cell_type": "code",
   "execution_count": 11,
   "id": "23064fe4",
   "metadata": {},
   "outputs": [
    {
     "name": "stdout",
     "output_type": "stream",
     "text": [
      " * sqlite:///FinalDB.db\n",
      "Done.\n"
     ]
    },
    {
     "data": {
      "text/html": [
       "<table>\n",
       "    <thead>\n",
       "        <tr>\n",
       "            <th>COMMUNITY_AREA_NAME</th>\n",
       "        </tr>\n",
       "    </thead>\n",
       "    <tbody>\n",
       "        <tr>\n",
       "            <td>West Garfield Park</td>\n",
       "        </tr>\n",
       "        <tr>\n",
       "            <td>South Lawndale</td>\n",
       "        </tr>\n",
       "        <tr>\n",
       "            <td>Fuller Park</td>\n",
       "        </tr>\n",
       "        <tr>\n",
       "            <td>Riverdale</td>\n",
       "        </tr>\n",
       "    </tbody>\n",
       "</table>"
      ],
      "text/plain": [
       "[('West Garfield Park',),\n",
       " ('South Lawndale',),\n",
       " ('Fuller Park',),\n",
       " ('Riverdale',)]"
      ]
     },
     "execution_count": 11,
     "metadata": {},
     "output_type": "execute_result"
    }
   ],
   "source": [
    "#List community areas with per capita income less than 11000.\n",
    "%sql SELECT COMMUNITY_AREA_NAME FROM CENSUS_DATA WHERE PER_CAPITA_INCOME < 11000;"
   ]
  },
  {
   "cell_type": "code",
   "execution_count": 12,
   "id": "dceedc17",
   "metadata": {},
   "outputs": [
    {
     "name": "stdout",
     "output_type": "stream",
     "text": [
      " * sqlite:///FinalDB.db\n",
      "Done.\n"
     ]
    },
    {
     "data": {
      "text/html": [
       "<table>\n",
       "    <thead>\n",
       "        <tr>\n",
       "            <th>CASE_NUMBER</th>\n",
       "        </tr>\n",
       "    </thead>\n",
       "    <tbody>\n",
       "        <tr>\n",
       "            <td>HL266884</td>\n",
       "        </tr>\n",
       "        <tr>\n",
       "            <td>HK238408</td>\n",
       "        </tr>\n",
       "    </tbody>\n",
       "</table>"
      ],
      "text/plain": [
       "[('HL266884',), ('HK238408',)]"
      ]
     },
     "execution_count": 12,
     "metadata": {},
     "output_type": "execute_result"
    }
   ],
   "source": [
    "#List all case numbers for crimes involving minors?(children are not considered minors for the purposes of crime analysis)\n",
    "%sql SELECT CASE_NUMBER FROM CHICAGO_CRIME_DATA WHERE DESCRIPTION LIKE \"%MINOR%\";"
   ]
  },
  {
   "cell_type": "code",
   "execution_count": 13,
   "id": "e189b914",
   "metadata": {},
   "outputs": [
    {
     "name": "stdout",
     "output_type": "stream",
     "text": [
      " * sqlite:///FinalDB.db\n",
      "Done.\n"
     ]
    },
    {
     "data": {
      "text/html": [
       "<table>\n",
       "    <thead>\n",
       "        <tr>\n",
       "            <th>ID</th>\n",
       "            <th>CASE_NUMBER</th>\n",
       "            <th>DATE</th>\n",
       "            <th>BLOCK</th>\n",
       "            <th>IUCR</th>\n",
       "            <th>PRIMARY_TYPE</th>\n",
       "            <th>DESCRIPTION</th>\n",
       "            <th>LOCATION_DESCRIPTION</th>\n",
       "            <th>ARREST</th>\n",
       "            <th>DOMESTIC</th>\n",
       "            <th>BEAT</th>\n",
       "            <th>DISTRICT</th>\n",
       "            <th>WARD</th>\n",
       "            <th>COMMUNITY_AREA_NUMBER</th>\n",
       "            <th>FBICODE</th>\n",
       "            <th>X_COORDINATE</th>\n",
       "            <th>Y_COORDINATE</th>\n",
       "            <th>YEAR</th>\n",
       "            <th>LATITUDE</th>\n",
       "            <th>LONGITUDE</th>\n",
       "            <th>LOCATION</th>\n",
       "        </tr>\n",
       "    </thead>\n",
       "    <tbody>\n",
       "        <tr>\n",
       "            <td>5276766</td>\n",
       "            <td>HN144152</td>\n",
       "            <td>2007-01-26</td>\n",
       "            <td>050XX W VAN BUREN ST</td>\n",
       "            <td>1792</td>\n",
       "            <td>KIDNAPPING</td>\n",
       "            <td>CHILD ABDUCTION/STRANGER</td>\n",
       "            <td>STREET</td>\n",
       "            <td>0</td>\n",
       "            <td>0</td>\n",
       "            <td>1533</td>\n",
       "            <td>15</td>\n",
       "            <td>29.0</td>\n",
       "            <td>25.0</td>\n",
       "            <td>20</td>\n",
       "            <td>1143050.0</td>\n",
       "            <td>1897546.0</td>\n",
       "            <td>2007</td>\n",
       "            <td>41.87490841</td>\n",
       "            <td>-87.75024931</td>\n",
       "            <td>(41.874908413, -87.750249307)</td>\n",
       "        </tr>\n",
       "    </tbody>\n",
       "</table>"
      ],
      "text/plain": [
       "[(5276766, 'HN144152', '2007-01-26', '050XX W VAN BUREN ST', '1792', 'KIDNAPPING', 'CHILD ABDUCTION/STRANGER', 'STREET', 0, 0, 1533, 15, 29.0, 25.0, '20', 1143050.0, 1897546.0, 2007, 41.87490841, -87.75024931, '(41.874908413, -87.750249307)')]"
      ]
     },
     "execution_count": 13,
     "metadata": {},
     "output_type": "execute_result"
    }
   ],
   "source": [
    "#List all kidnapping crimes involving a child?\n",
    "%sql SELECT * FROM CHICAGO_CRIME_DATA WHERE PRIMARY_TYPE = \"KIDNAPPING\" AND DESCRIPTION LIKE \"%CHILD%\";"
   ]
  },
  {
   "cell_type": "code",
   "execution_count": 14,
   "id": "ce93de21",
   "metadata": {},
   "outputs": [
    {
     "name": "stdout",
     "output_type": "stream",
     "text": [
      " * sqlite:///FinalDB.db\n",
      "Done.\n"
     ]
    },
    {
     "data": {
      "text/html": [
       "<table>\n",
       "    <thead>\n",
       "        <tr>\n",
       "            <th>PRIMARY_TYPE</th>\n",
       "        </tr>\n",
       "    </thead>\n",
       "    <tbody>\n",
       "        <tr>\n",
       "            <td>BATTERY</td>\n",
       "        </tr>\n",
       "        <tr>\n",
       "            <td>CRIMINAL DAMAGE</td>\n",
       "        </tr>\n",
       "        <tr>\n",
       "            <td>NARCOTICS</td>\n",
       "        </tr>\n",
       "        <tr>\n",
       "            <td>ASSAULT</td>\n",
       "        </tr>\n",
       "        <tr>\n",
       "            <td>CRIMINAL TRESPASS</td>\n",
       "        </tr>\n",
       "        <tr>\n",
       "            <td>PUBLIC PEACE VIOLATION</td>\n",
       "        </tr>\n",
       "    </tbody>\n",
       "</table>"
      ],
      "text/plain": [
       "[('BATTERY',),\n",
       " ('CRIMINAL DAMAGE',),\n",
       " ('NARCOTICS',),\n",
       " ('ASSAULT',),\n",
       " ('CRIMINAL TRESPASS',),\n",
       " ('PUBLIC PEACE VIOLATION',)]"
      ]
     },
     "execution_count": 14,
     "metadata": {},
     "output_type": "execute_result"
    }
   ],
   "source": [
    "#What kinds of crimes were recorded at schools?\n",
    "%sql SELECT DISTINCT(PRIMARY_TYPE) FROM CHICAGO_CRIME_DATA WHERE LOCATION_DESCRIPTION LIKE \"%SCHOOL%\";"
   ]
  },
  {
   "cell_type": "code",
   "execution_count": 15,
   "id": "18a3f061",
   "metadata": {},
   "outputs": [
    {
     "name": "stdout",
     "output_type": "stream",
     "text": [
      " * sqlite:///FinalDB.db\n",
      "Done.\n"
     ]
    },
    {
     "data": {
      "text/html": [
       "<table>\n",
       "    <thead>\n",
       "        <tr>\n",
       "            <th>Elementary, Middle, or High School</th>\n",
       "            <th>AVG(SAFETY_SCORE)</th>\n",
       "        </tr>\n",
       "    </thead>\n",
       "    <tbody>\n",
       "        <tr>\n",
       "            <td>ES</td>\n",
       "            <td>49.52038369304557</td>\n",
       "        </tr>\n",
       "        <tr>\n",
       "            <td>HS</td>\n",
       "            <td>49.62352941176471</td>\n",
       "        </tr>\n",
       "        <tr>\n",
       "            <td>MS</td>\n",
       "            <td>48.0</td>\n",
       "        </tr>\n",
       "    </tbody>\n",
       "</table>"
      ],
      "text/plain": [
       "[('ES', 49.52038369304557), ('HS', 49.62352941176471), ('MS', 48.0)]"
      ]
     },
     "execution_count": 15,
     "metadata": {},
     "output_type": "execute_result"
    }
   ],
   "source": [
    "#List the average safety score for each type of school.\n",
    "%sql SELECT \"Elementary, Middle, or High School\", AVG(SAFETY_SCORE) FROM CHICAGO_PUBLIC_SCHOOLS GROUP BY \"Elementary, Middle, or High School\";"
   ]
  },
  {
   "cell_type": "code",
   "execution_count": 16,
   "id": "81b48b6f",
   "metadata": {},
   "outputs": [
    {
     "name": "stdout",
     "output_type": "stream",
     "text": [
      " * sqlite:///FinalDB.db\n",
      "Done.\n"
     ]
    },
    {
     "data": {
      "text/html": [
       "<table>\n",
       "    <thead>\n",
       "        <tr>\n",
       "            <th>COMMUNITY_AREA_NAME</th>\n",
       "        </tr>\n",
       "    </thead>\n",
       "    <tbody>\n",
       "        <tr>\n",
       "            <td>Riverdale</td>\n",
       "        </tr>\n",
       "        <tr>\n",
       "            <td>Fuller Park</td>\n",
       "        </tr>\n",
       "        <tr>\n",
       "            <td>Englewood</td>\n",
       "        </tr>\n",
       "        <tr>\n",
       "            <td>North Lawndale</td>\n",
       "        </tr>\n",
       "        <tr>\n",
       "            <td>East Garfield Park</td>\n",
       "        </tr>\n",
       "    </tbody>\n",
       "</table>"
      ],
      "text/plain": [
       "[('Riverdale',),\n",
       " ('Fuller Park',),\n",
       " ('Englewood',),\n",
       " ('North Lawndale',),\n",
       " ('East Garfield Park',)]"
      ]
     },
     "execution_count": 16,
     "metadata": {},
     "output_type": "execute_result"
    }
   ],
   "source": [
    "#List 5 community areas with highest % of households below poverty line.\n",
    "%sql SELECT COMMUNITY_AREA_NAME FROM CENSUS_DATA ORDER BY PERCENT_HOUSEHOLDS_BELOW_POVERTY DESC LIMIT 5;"
   ]
  },
  {
   "cell_type": "code",
   "execution_count": 23,
   "id": "5d325cc6",
   "metadata": {},
   "outputs": [
    {
     "name": "stdout",
     "output_type": "stream",
     "text": [
      " * sqlite:///FinalDB.db\n",
      "Done.\n"
     ]
    },
    {
     "data": {
      "text/html": [
       "<table>\n",
       "    <thead>\n",
       "        <tr>\n",
       "            <th>COMMUNITY_AREA_NUMBER</th>\n",
       "            <th>TOTAL_CRIME</th>\n",
       "        </tr>\n",
       "    </thead>\n",
       "    <tbody>\n",
       "        <tr>\n",
       "            <td>25.0</td>\n",
       "            <td>43</td>\n",
       "        </tr>\n",
       "    </tbody>\n",
       "</table>"
      ],
      "text/plain": [
       "[(25.0, 43)]"
      ]
     },
     "execution_count": 23,
     "metadata": {},
     "output_type": "execute_result"
    }
   ],
   "source": [
    "#Which community area is most crime prone?\n",
    "%sql SELECT COMMUNITY_AREA_NUMBER, COUNT(*) AS TOTAL_CRIME FROM CHICAGO_CRIME_DATA GROUP BY COMMUNITY_AREA_NUMBER ORDER BY TOTAL_CRIME DESC LIMIT 1 ;"
   ]
  },
  {
   "cell_type": "code",
   "execution_count": 24,
   "id": "bd93abd0",
   "metadata": {},
   "outputs": [
    {
     "name": "stdout",
     "output_type": "stream",
     "text": [
      " * sqlite:///FinalDB.db\n",
      "Done.\n"
     ]
    },
    {
     "data": {
      "text/html": [
       "<table>\n",
       "    <thead>\n",
       "        <tr>\n",
       "            <th>COMMUNITY_AREA_NAME</th>\n",
       "        </tr>\n",
       "    </thead>\n",
       "    <tbody>\n",
       "        <tr>\n",
       "            <td>Riverdale</td>\n",
       "        </tr>\n",
       "    </tbody>\n",
       "</table>"
      ],
      "text/plain": [
       "[('Riverdale',)]"
      ]
     },
     "execution_count": 24,
     "metadata": {},
     "output_type": "execute_result"
    }
   ],
   "source": [
    "#Use a sub-query to find the name of the community area with highest hardship index.\n",
    "%sql SELECT COMMUNITY_AREA_NAME FROM CENSUS_DATA WHERE HARDSHIP_INDEX = (SELECT MAX(HARDSHIP_INDEX) FROM CENSUS_DATA);"
   ]
  },
  {
   "cell_type": "code",
   "execution_count": 25,
   "id": "2d8125ce",
   "metadata": {},
   "outputs": [
    {
     "name": "stdout",
     "output_type": "stream",
     "text": [
      " * sqlite:///FinalDB.db\n",
      "Done.\n"
     ]
    },
    {
     "data": {
      "text/html": [
       "<table>\n",
       "    <thead>\n",
       "        <tr>\n",
       "            <th>COMMUNITY_AREA_NAME</th>\n",
       "        </tr>\n",
       "    </thead>\n",
       "    <tbody>\n",
       "        <tr>\n",
       "            <td>Austin</td>\n",
       "        </tr>\n",
       "    </tbody>\n",
       "</table>"
      ],
      "text/plain": [
       "[('Austin',)]"
      ]
     },
     "execution_count": 25,
     "metadata": {},
     "output_type": "execute_result"
    }
   ],
   "source": [
    "#Use a sub-query to determine the Community Area Name with most number of crimes?\n",
    "%sql SELECT COMMUNITY_AREA_NAME FROM CENSUS_DATA WHERE COMMUNITY_AREA_NUMBER = (SELECT COMMUNITY_AREA_NUMBER FROM CHICAGO_CRIME_DATA WHERE COMMUNITY_AREA_NUMBER = 25 LIMIT 1);"
   ]
  },
  {
   "cell_type": "code",
   "execution_count": null,
   "id": "029d2ecb",
   "metadata": {},
   "outputs": [],
   "source": []
  }
 ],
 "metadata": {
  "kernelspec": {
   "display_name": "Python 3 (ipykernel)",
   "language": "python",
   "name": "python3"
  },
  "language_info": {
   "codemirror_mode": {
    "name": "ipython",
    "version": 3
   },
   "file_extension": ".py",
   "mimetype": "text/x-python",
   "name": "python",
   "nbconvert_exporter": "python",
   "pygments_lexer": "ipython3",
   "version": "3.10.9"
  }
 },
 "nbformat": 4,
 "nbformat_minor": 5
}
